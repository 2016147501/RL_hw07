{
  "nbformat": 4,
  "nbformat_minor": 0,
  "metadata": {
    "colab": {
      "provenance": [],
      "gpuType": "T4"
    },
    "kernelspec": {
      "name": "python3",
      "display_name": "Python 3"
    },
    "language_info": {
      "name": "python"
    },
    "accelerator": "GPU"
  },
  "cells": [
    {
      "cell_type": "markdown",
      "source": [
        "## Running the HW7 on Colab\n",
        "\n",
        "If you are getting installation issues or don't have compute, follow these steps to run the homework on Colab.\n",
        "\n",
        "1. Upload the project folder to Google Drive\n",
        "2. Open this file on colab and run!\n"
      ],
      "metadata": {
        "id": "kaXCxINK0QLu"
      }
    },
    {
      "cell_type": "code",
      "source": [
        "from google.colab import drive\n",
        "drive.mount('/content/gdrive')"
      ],
      "metadata": {
        "colab": {
          "base_uri": "https://localhost:8080/"
        },
        "id": "xtEw4ad0zBaA",
        "outputId": "50a0728c-a613-4e21-a4c5-f4ab9f517dfb"
      },
      "execution_count": 40,
      "outputs": [
        {
          "output_type": "stream",
          "name": "stdout",
          "text": [
            "Mounted at /content/gdrive\n"
          ]
        }
      ]
    },
    {
      "cell_type": "code",
      "source": [
        "import os\n",
        "# Change to your target directory\n",
        "os.chdir('/content/gdrive/MyDrive/hw7')\n",
        "# Check current directory\n",
        "print(\"Now in:\", os.getcwd())"
      ],
      "metadata": {
        "colab": {
          "base_uri": "https://localhost:8080/"
        },
        "id": "7eH2jwRLzOIB",
        "outputId": "cb4fbe76-9529-4850-cd70-e7c76bc7375e"
      },
      "execution_count": 45,
      "outputs": [
        {
          "output_type": "stream",
          "name": "stdout",
          "text": [
            "Now in: /content/gdrive/MyDrive/hw7\n"
          ]
        }
      ]
    },
    {
      "cell_type": "code",
      "execution_count": null,
      "metadata": {
        "collapsed": true,
        "id": "Bu-q7P0Mqa0q"
      },
      "outputs": [],
      "source": [
        "!pip install -r requirements.txt\n",
        "!pip install -e .\n",
        "!pip install flask pyngrok\n",
        "!pip install pyvirtualdisplay"
      ]
    },
    {
      "cell_type": "markdown",
      "source": [
        "### You need Ngrok access for forwarding ports\n",
        "1. Navigate to https://ngrok.com/\n",
        "2. Sign up\n",
        "3. Navigate to Getting started -> Your Authtoken\n",
        "4. Copy your auth token and paste below"
      ],
      "metadata": {
        "id": "Iy9b0w0gw6lH"
      }
    },
    {
      "cell_type": "code",
      "source": [
        "!ngrok config add-authtoken YOUR-TOKEN"
      ],
      "metadata": {
        "id": "ph6zEQckukVg"
      },
      "execution_count": null,
      "outputs": []
    },
    {
      "cell_type": "code",
      "source": [
        "from pyngrok import ngrok\n",
        "port = 5000\n",
        "public_url = ngrok.connect(port)\n",
        "print(\"✨ ngrok address:\", public_url)"
      ],
      "metadata": {
        "id": "gWTovs37rpWf"
      },
      "execution_count": null,
      "outputs": []
    },
    {
      "cell_type": "markdown",
      "source": [
        "Navigate to the NgrokTunnel address after you run the code below to start annotation"
      ],
      "metadata": {
        "id": "0-rDy9UDxyXq"
      }
    },
    {
      "cell_type": "code",
      "source": [
        "from pyvirtualdisplay import Display\n",
        "display = Display(visible=0, size=(1400, 900))\n",
        "display.start()\n",
        "\n",
        "!export MUJOCO_GL='egl'\n",
        "!sh pointmaze.sh\n",
        "# !sh hopper.sh"
      ],
      "metadata": {
        "id": "1544-9v0sEg1"
      },
      "execution_count": null,
      "outputs": []
    },
    {
      "cell_type": "code",
      "source": [
        "# Load the TensorBoard notebook extension\n",
        "%load_ext tensorboard\n",
        "%tensorboard --logdir data"
      ],
      "metadata": {
        "id": "8pUM5wxPurPU"
      },
      "execution_count": null,
      "outputs": []
    }
  ]
}